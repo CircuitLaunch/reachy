{
 "cells": [
  {
   "cell_type": "markdown",
   "metadata": {},
   "source": [
    "# Testing the Right Arm"
   ]
  },
  {
   "cell_type": "markdown",
   "metadata": {},
   "source": [
    "**Warning:** Before running this notebook, first make sure you understand the command you run and make sure that the robot can freely move."
   ]
  },
  {
   "cell_type": "markdown",
   "metadata": {},
   "source": [
    "**Note:** Also stop all other running Python script or notebook connected to the robot as only one connection can run at the same time."
   ]
  },
  {
   "cell_type": "code",
   "execution_count": 1,
   "metadata": {},
   "outputs": [],
   "source": [
    "%matplotlib notebook\n",
    "\n",
    "import time\n",
    "import numpy as np\n",
    "\n",
    "from matplotlib import pyplot as plt"
   ]
  },
  {
   "cell_type": "code",
   "execution_count": null,
   "metadata": {},
   "outputs": [],
   "source": [
    "from collections import OrderedDict\n",
    "from reachy import parts\n",
    "\n",
    "def patch_right_arm_config(arm_cls):\n",
    "    arm_cls.dxl_motors = OrderedDict([\n",
    "        ('shoulder_pitch', {\n",
    "            'id': 10, 'offset': 0.0, 'orientation': 'indirect',\n",
    "            'angle-limits': [-180, 60],\n",
    "            'link-translation': [0, -0.19, 0], 'link-rotation': [0, 1, 0],\n",
    "        }),\n",
    "        ('shoulder_roll', {\n",
    "            'id': 11, 'offset': 90.0, 'orientation': 'indirect',\n",
    "            'angle-limits': [-100, 90],\n",
    "            'link-translation': [0, 0, 0], 'link-rotation': [1, 0, 0],\n",
    "        }),\n",
    "        ('arm_yaw', {\n",
    "            'id': 12, 'offset': 0.0, 'orientation': 'indirect',\n",
    "            'angle-limits': [-90, 90],\n",
    "            'link-translation': [0, 0, 0], 'link-rotation': [0, 0, 1],\n",
    "        }),\n",
    "        ('elbow_pitch', {\n",
    "            'id': 13, 'offset': 0.0, 'orientation': 'indirect',\n",
    "            'angle-limits': [0, 125],\n",
    "            'link-translation': [0, 0, -0.28], 'link-rotation': [0, 1, 0],\n",
    "        }),\n",
    "    ])\n",
    "\n",
    "    return arm_cls\n",
    "\n",
    "def patch_force_gripper(forceGripper):\n",
    "    def __init__(self, root, io):\n",
    "        \"\"\"Create a new Force Gripper Hand.\"\"\"\n",
    "        parts.hand.Hand.__init__(self, root=root, io=io)\n",
    "\n",
    "        dxl_motors = OrderedDict({\n",
    "            name: dict(conf)\n",
    "            for name, conf in self.dxl_motors.items()\n",
    "        })\n",
    "\n",
    "        self.attach_dxl_motors(dxl_motors)\n",
    "\n",
    "        \"\"\"\n",
    "        self._load_sensor = self.io.find_module('force_gripper')\n",
    "        self._load_sensor.offset = 4\n",
    "        self._load_sensor.scale = 10000\n",
    "        \"\"\"\n",
    "\n",
    "    forceGripper.__init__ = __init__\n",
    "\n",
    "    return forceGripper\n"
   ]
  },
  {
   "cell_type": "markdown",
   "metadata": {},
   "source": [
    "## Connect to the right arm"
   ]
  },
  {
   "cell_type": "code",
   "execution_count": 2,
   "metadata": {},
   "outputs": [
    {
     "ename": "ModuleNotFoundError",
     "evalue": "No module named 'reachy'",
     "output_type": "error",
     "traceback": [
      "\u001b[0;31m\u001b[0m",
      "\u001b[0;31mModuleNotFoundError\u001b[0mTraceback (most recent call last)",
      "\u001b[0;32m<ipython-input-2-50d263ee87e8>\u001b[0m in \u001b[0;36m<module>\u001b[0;34m\u001b[0m\n\u001b[0;32m----> 1\u001b[0;31m \u001b[0;32mfrom\u001b[0m \u001b[0mreachy\u001b[0m \u001b[0;32mimport\u001b[0m \u001b[0mReachy\u001b[0m\u001b[0;34m,\u001b[0m \u001b[0mparts\u001b[0m\u001b[0;34m\u001b[0m\u001b[0;34m\u001b[0m\u001b[0m\n\u001b[0m",
      "\u001b[0;31mModuleNotFoundError\u001b[0m: No module named 'reachy'"
     ]
    }
   ],
   "source": [
    "from reachy import Reachy, parts"
   ]
  },
  {
   "cell_type": "code",
   "execution_count": null,
   "metadata": {},
   "outputs": [],
   "source": [
    "parts.RightArm = patch_right_arm_config(parts.RightArm)        "
   ]
  },
  {
   "cell_type": "code",
   "execution_count": null,
   "metadata": {},
   "outputs": [],
   "source": [
    "parts.arm.RightForceGripper = patch_force_gripper(parts.arm.RightForceGripper)"
   ]
  },
  {
   "cell_type": "code",
   "execution_count": null,
   "metadata": {},
   "outputs": [],
   "source": [
    "reachy = Reachy(\n",
    "    right_arm=parts.RightArm(io='/dev/ttyUSB*', hand='force_gripper'),\n",
    "    #right_arm=parts.RightArm(io='ws', hand='force_gripper'),\n",
    ")"
   ]
  },
  {
   "cell_type": "markdown",
   "metadata": {},
   "source": [
    "You can now connect your robot in Unity."
   ]
  },
  {
   "cell_type": "markdown",
   "metadata": {},
   "source": [
    "## Check motors"
   ]
  },
  {
   "cell_type": "markdown",
   "metadata": {},
   "source": [
    "Check that all motors are presents"
   ]
  },
  {
   "cell_type": "code",
   "execution_count": 4,
   "metadata": {},
   "outputs": [
    {
     "name": "stdout",
     "output_type": "stream",
     "text": [
      "right_arm.shoulder_pitch - pos:0.0 temp:20\n",
      "right_arm.shoulder_roll - pos:0.0 temp:20\n",
      "right_arm.arm_yaw - pos:-0.0 temp:20\n",
      "right_arm.elbow_pitch - pos:-0.0 temp:20\n",
      "right_arm.hand.forearm_yaw - pos:-0.0 temp:20\n",
      "right_arm.hand.wrist_pitch - pos:-0.0 temp:20\n",
      "right_arm.hand.wrist_roll - pos:-0.0 temp:20\n",
      "right_arm.hand.gripper - pos:0.0 temp:20\n"
     ]
    }
   ],
   "source": [
    "for m in reachy.right_arm.motors:\n",
    "    print(f'{m.name} - pos:{m.present_position} temp:{m.temperature}')"
   ]
  },
  {
   "cell_type": "markdown",
   "metadata": {},
   "source": [
    "Move the arm and check that the position are moving"
   ]
  },
  {
   "cell_type": "markdown",
   "metadata": {},
   "source": [
    "## Turn stiff/compliant"
   ]
  },
  {
   "cell_type": "code",
   "execution_count": 5,
   "metadata": {},
   "outputs": [],
   "source": [
    "for m in reachy.right_arm.motors:\n",
    "    m.compliant = False"
   ]
  },
  {
   "cell_type": "code",
   "execution_count": 6,
   "metadata": {},
   "outputs": [],
   "source": [
    "for m in reachy.right_arm.motors:\n",
    "    m.compliant = True"
   ]
  },
  {
   "cell_type": "markdown",
   "metadata": {},
   "source": [
    "Check that all motors are turning compliant/stiff."
   ]
  },
  {
   "cell_type": "markdown",
   "metadata": {},
   "source": [
    "## Goto 0 pos + 90 on the elbow"
   ]
  },
  {
   "cell_type": "code",
   "execution_count": 7,
   "metadata": {},
   "outputs": [],
   "source": [
    "for m in reachy.right_arm.motors:\n",
    "    m.compliant = False"
   ]
  },
  {
   "cell_type": "code",
   "execution_count": 8,
   "metadata": {},
   "outputs": [
    {
     "data": {
      "text/plain": [
       "[<reachy.trajectory.interpolation.Linear at 0x7fbadff624e0>,\n",
       " <reachy.trajectory.interpolation.Linear at 0x7fbadff62668>,\n",
       " <reachy.trajectory.interpolation.Linear at 0x7fbadff627b8>,\n",
       " <reachy.trajectory.interpolation.Linear at 0x7fbadff62908>,\n",
       " <reachy.trajectory.interpolation.Linear at 0x7fbadff62a58>,\n",
       " <reachy.trajectory.interpolation.Linear at 0x7fbadff62ba8>,\n",
       " <reachy.trajectory.interpolation.Linear at 0x7fbadff62cf8>,\n",
       " <reachy.trajectory.interpolation.Linear at 0x7fbadff62e48>]"
      ]
     },
     "execution_count": 8,
     "metadata": {},
     "output_type": "execute_result"
    }
   ],
   "source": [
    "reachy.goto({\n",
    "    'right_arm.shoulder_pitch': 0,\n",
    "    'right_arm.shoulder_roll': 0,\n",
    "    'right_arm.arm_yaw': 0,    \n",
    "    'right_arm.elbow_pitch': -90,\n",
    "    'right_arm.hand.forearm_yaw': 0,\n",
    "    'right_arm.hand.wrist_pitch': 0,\n",
    "    'right_arm.hand.wrist_roll': 0,\n",
    "    'right_arm.hand.gripper': 0,\n",
    "}, duration=3, wait=True)"
   ]
  },
  {
   "cell_type": "markdown",
   "metadata": {},
   "source": [
    "Check that everything seems fine."
   ]
  },
  {
   "cell_type": "code",
   "execution_count": 9,
   "metadata": {},
   "outputs": [
    {
     "data": {
      "text/plain": [
       "[<DxlMotor \"right_arm.shoulder_pitch\" pos=\"0.0\" mode=\"stiff\">,\n",
       " <DxlMotor \"right_arm.shoulder_roll\" pos=\"0.0\" mode=\"stiff\">,\n",
       " <DxlMotor \"right_arm.arm_yaw\" pos=\"-0.0\" mode=\"stiff\">,\n",
       " <DxlMotor \"right_arm.elbow_pitch\" pos=\"-89.72148132324219\" mode=\"stiff\">,\n",
       " <DxlMotor \"right_arm.hand.forearm_yaw\" pos=\"-0.0\" mode=\"stiff\">,\n",
       " <DxlMotor \"right_arm.hand.wrist_pitch\" pos=\"-0.0\" mode=\"stiff\">,\n",
       " <DxlMotor \"right_arm.hand.wrist_roll\" pos=\"-0.0\" mode=\"stiff\">,\n",
       " <DxlMotor \"right_arm.hand.gripper\" pos=\"0.0\" mode=\"stiff\">]"
      ]
     },
     "execution_count": 9,
     "metadata": {},
     "output_type": "execute_result"
    }
   ],
   "source": [
    "reachy.right_arm.motors"
   ]
  },
  {
   "cell_type": "code",
   "execution_count": null,
   "metadata": {},
   "outputs": [],
   "source": [
    "for m in reachy.right_arm.motors:\n",
    "    m.compliant = True"
   ]
  },
  {
   "cell_type": "markdown",
   "metadata": {},
   "source": [
    "## Record a trajectory and replay it"
   ]
  },
  {
   "cell_type": "markdown",
   "metadata": {},
   "source": [
    "*This part doesn't really seem to work with the simulator. - PC*"
   ]
  },
  {
   "cell_type": "code",
   "execution_count": null,
   "metadata": {},
   "outputs": [],
   "source": [
    "from reachy.trajectory import TrajectoryRecorder, TrajectoryPlayer"
   ]
  },
  {
   "cell_type": "code",
   "execution_count": null,
   "metadata": {},
   "outputs": [],
   "source": [
    "recorder = TrajectoryRecorder(reachy.right_arm.motors)"
   ]
  },
  {
   "cell_type": "markdown",
   "metadata": {},
   "source": [
    "We will record a move for 10sec. Make sure you hold the robot away from all objects before starting the record."
   ]
  },
  {
   "cell_type": "code",
   "execution_count": null,
   "metadata": {},
   "outputs": [],
   "source": [
    "recorder.start()\n",
    "time.sleep(10)\n",
    "recorder.stop()"
   ]
  },
  {
   "cell_type": "markdown",
   "metadata": {},
   "source": [
    "Turn all motors stiff (try putting the robot in about its starting position of the trajectory)."
   ]
  },
  {
   "cell_type": "code",
   "execution_count": null,
   "metadata": {},
   "outputs": [],
   "source": [
    "for m in reachy.right_arm.motors:\n",
    "    m.compliant = False"
   ]
  },
  {
   "cell_type": "code",
   "execution_count": null,
   "metadata": {},
   "outputs": [],
   "source": [
    "player = TrajectoryPlayer(reachy, recorder.trajectories)\n",
    "player.play(wait=True, fade_in_duration=3)"
   ]
  },
  {
   "cell_type": "markdown",
   "metadata": {},
   "source": [
    "Turn it back compliant."
   ]
  },
  {
   "cell_type": "code",
   "execution_count": null,
   "metadata": {},
   "outputs": [],
   "source": [
    "for m in reachy.right_arm.motors:\n",
    "    m.compliant = True"
   ]
  },
  {
   "cell_type": "markdown",
   "metadata": {},
   "source": [
    "Look at the recorded traj."
   ]
  },
  {
   "cell_type": "code",
   "execution_count": null,
   "metadata": {},
   "outputs": [],
   "source": [
    "plt.figure()\n",
    "\n",
    "for k, v in recorder.trajectories.items():\n",
    "    plt.plot(v, label=k)\n",
    "# plt.legend()"
   ]
  },
  {
   "cell_type": "markdown",
   "metadata": {},
   "source": [
    "## Grasp objects"
   ]
  },
  {
   "cell_type": "markdown",
   "metadata": {},
   "source": [
    "Put an object inside the hand of the robot and then run the line below to close it."
   ]
  },
  {
   "cell_type": "code",
   "execution_count": null,
   "metadata": {},
   "outputs": [],
   "source": [
    "reachy.right_arm.hand.gripper.compliant = False"
   ]
  },
  {
   "cell_type": "code",
   "execution_count": null,
   "metadata": {},
   "outputs": [],
   "source": [
    "reachy.right_arm.hand.close()"
   ]
  },
  {
   "cell_type": "markdown",
   "metadata": {},
   "source": [
    "Check that the close method returned true. Check the object holds in its hand while moving the arm manually."
   ]
  },
  {
   "cell_type": "markdown",
   "metadata": {},
   "source": [
    "*This returns false because you can't really put in anything in Reachy's hand in the simulator. - PC*"
   ]
  },
  {
   "cell_type": "markdown",
   "metadata": {},
   "source": [
    "Then we reopen the hand."
   ]
  },
  {
   "cell_type": "code",
   "execution_count": null,
   "metadata": {},
   "outputs": [],
   "source": [
    "reachy.right_arm.hand.open()"
   ]
  },
  {
   "cell_type": "code",
   "execution_count": null,
   "metadata": {},
   "outputs": [],
   "source": [
    "reachy.right_arm.hand.gripper.compliant = True"
   ]
  },
  {
   "cell_type": "markdown",
   "metadata": {},
   "source": [
    "## Check kinematics"
   ]
  },
  {
   "cell_type": "markdown",
   "metadata": {},
   "source": [
    "Put the arm in a position where its hand is facing forward and where it can move at least 10cm in all direction."
   ]
  },
  {
   "cell_type": "code",
   "execution_count": null,
   "metadata": {},
   "outputs": [],
   "source": [
    "for m in reachy.right_arm.motors:\n",
    "    m.compliant = False"
   ]
  },
  {
   "cell_type": "code",
   "execution_count": null,
   "metadata": {},
   "outputs": [],
   "source": [
    "J0 = [m.present_position for m in reachy.right_arm.motors]\n",
    "\n",
    "M = reachy.right_arm.forward_kinematics(J0)\n",
    "\n",
    "M1 = M.copy()\n",
    "M1[0, 3] += 0.05\n",
    "J1 = reachy.right_arm.inverse_kinematics(M1, J0)\n",
    "\n",
    "M2 = M.copy()\n",
    "M2[0, 3] -= 0.05\n",
    "J2 = reachy.right_arm.inverse_kinematics(M2, J0)\n",
    "\n",
    "M3 = M.copy()\n",
    "M3[1, 3] += 0.05\n",
    "J3 = reachy.right_arm.inverse_kinematics(M3, J0)\n",
    "\n",
    "M4 = M.copy()\n",
    "M4[1, 3] -= 0.05\n",
    "J4 = reachy.right_arm.inverse_kinematics(M4, J0)"
   ]
  },
  {
   "cell_type": "code",
   "execution_count": null,
   "metadata": {},
   "outputs": [],
   "source": [
    "_ = reachy.goto({m.name: j for j, m in zip(J1, reachy.right_arm.motors)}, duration=1, wait=True)\n",
    "_ = reachy.goto({m.name: j for j, m in zip(J2, reachy.right_arm.motors)}, duration=1, wait=True)\n",
    "_ = reachy.goto({m.name: j for j, m in zip(J3, reachy.right_arm.motors)}, duration=1, wait=True)\n",
    "_ = reachy.goto({m.name: j for j, m in zip(J4, reachy.right_arm.motors)}, duration=1, wait=True)\n",
    "_ = reachy.goto({m.name: j for j, m in zip(J0, reachy.right_arm.motors)}, duration=1, wait=True)"
   ]
  },
  {
   "cell_type": "code",
   "execution_count": null,
   "metadata": {},
   "outputs": [],
   "source": [
    "for m in reachy.right_arm.motors:\n",
    "    m.compliant = True"
   ]
  },
  {
   "cell_type": "markdown",
   "metadata": {},
   "source": [
    "## Check the fans"
   ]
  },
  {
   "cell_type": "markdown",
   "metadata": {},
   "source": [
    "*I'm not really sure if this does anything in the simulator. - PC*"
   ]
  },
  {
   "cell_type": "code",
   "execution_count": null,
   "metadata": {},
   "outputs": [],
   "source": [
    "reachy.right_arm.shoulder_fan.on()"
   ]
  },
  {
   "cell_type": "code",
   "execution_count": null,
   "metadata": {},
   "outputs": [],
   "source": [
    "reachy.right_arm.shoulder_fan.off()"
   ]
  },
  {
   "cell_type": "code",
   "execution_count": null,
   "metadata": {},
   "outputs": [],
   "source": [
    "reachy.right_arm.elbow_fan.on()"
   ]
  },
  {
   "cell_type": "code",
   "execution_count": null,
   "metadata": {},
   "outputs": [],
   "source": [
    "reachy.right_arm.elbow_fan.off()"
   ]
  },
  {
   "cell_type": "code",
   "execution_count": null,
   "metadata": {},
   "outputs": [],
   "source": [
    "reachy.right_arm.wrist_fan.on()"
   ]
  },
  {
   "cell_type": "code",
   "execution_count": null,
   "metadata": {},
   "outputs": [],
   "source": [
    "reachy.right_arm.wrist_fan.off()"
   ]
  },
  {
   "cell_type": "code",
   "execution_count": null,
   "metadata": {},
   "outputs": [],
   "source": []
  }
 ],
 "metadata": {
  "kernelspec": {
   "display_name": "Python 3",
   "language": "python",
   "name": "python3"
  },
  "language_info": {
   "codemirror_mode": {
    "name": "ipython",
    "version": 3
   },
   "file_extension": ".py",
   "mimetype": "text/x-python",
   "name": "python",
   "nbconvert_exporter": "python",
   "pygments_lexer": "ipython3",
   "version": "3.7.4"
  }
 },
 "nbformat": 4,
 "nbformat_minor": 4
}
