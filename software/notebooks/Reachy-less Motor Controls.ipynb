{
 "cells": [
  {
   "cell_type": "code",
   "execution_count": 1,
   "metadata": {},
   "outputs": [],
   "source": [
    "import pathlib\n",
    "import numpy as np\n",
    "from collections import OrderedDict\n",
    "import time"
   ]
  },
  {
   "cell_type": "markdown",
   "metadata": {},
   "source": [
    "# Common Classes and Functions"
   ]
  },
  {
   "cell_type": "code",
   "execution_count": 2,
   "metadata": {},
   "outputs": [],
   "source": [
    "from scipy.spatial.transform import Rotation as R\n",
    "\n",
    "\n",
    "def rot(axis, deg):\n",
    "    \"\"\"Compute 3D rotation matrix given euler rotation.\"\"\"\n",
    "    return R.from_euler(axis, np.deg2rad(deg)).as_matrix()"
   ]
  },
  {
   "cell_type": "code",
   "execution_count": 3,
   "metadata": {},
   "outputs": [],
   "source": [
    "class DynamixelMotor(object):\n",
    "    \"\"\"DynamixelMotor abstraction class.\n",
    "    Args:\n",
    "        root_part (str): name of the part where the motor is attached to (eg 'right_arm.hand')\n",
    "        name (str): name of the motor (eg. 'shoulder_pitch')\n",
    "        luos_motor (:py:class:`pyluos.modules.DxlMotor`): pyluos motor\n",
    "        config (dict): extra motor config (must include 'offset' and 'orientation' fields)\n",
    "    Wrap the pyluos motor object to simplify and make the API homogeneous.\n",
    "    \"\"\"\n",
    "\n",
    "    def __init__(self, root_part, name, luos_motor, config):\n",
    "        \"\"\"Create a DynamixelMotor given its pyluos equivalent.\"\"\"\n",
    "        self._root_part = root_part\n",
    "        self._name = name\n",
    "\n",
    "        self._motor = luos_motor\n",
    "\n",
    "        self._offset = config['offset']\n",
    "        self._direct = config['orientation'] == 'direct'\n",
    "\n",
    "        self._timer = None\n",
    "        self._use_static_fix = False\n",
    "\n",
    "    def __repr__(self):\n",
    "        \"\"\"Motor representation.\"\"\"\n",
    "        mode = 'compliant' if self.compliant else 'stiff'\n",
    "        return f'<DxlMotor \"{self.name}\" pos=\"{self.present_position}\" mode=\"{mode}\">'\n",
    "\n",
    "    @property\n",
    "    def name(self):\n",
    "        \"\"\"Fullname of the motor (eg. right_arm.hand.gripper).\"\"\"\n",
    "        return f'{self._root_part.name}.{self._name}'\n",
    "\n",
    "    # Position\n",
    "    @property\n",
    "    def present_position(self):\n",
    "        \"\"\"Present position (in degrees) of the motor.\"\"\"\n",
    "        return self._as_local_pos(self._motor.rot_position)\n",
    "\n",
    "    @property\n",
    "    def goal_position(self):\n",
    "        \"\"\"Get current goal position (in degrees) of the motor.\"\"\"\n",
    "        return self._as_local_pos(self._motor.target_rot_position)\n",
    "\n",
    "    @goal_position.setter\n",
    "    def goal_position(self, value):\n",
    "        if not self.compliant:\n",
    "            self._motor.target_rot_position = self._to_motor_pos(value)\n",
    "\n",
    "            if self._use_static_fix:\n",
    "                self._schedule_static_error_fix(delay=1)\n",
    "\n",
    "    @property\n",
    "    def offset(self):\n",
    "        \"\"\"Get motor real zero (in degrees).\"\"\"\n",
    "        return self._offset\n",
    "\n",
    "    def is_direct(self):\n",
    "        \"\"\"Check whether the motor is direct or not.\"\"\"\n",
    "        return self._direct\n",
    "\n",
    "    def _as_local_pos(self, pos):\n",
    "        return (pos if self.is_direct() else -pos) - self.offset\n",
    "\n",
    "    def _to_motor_pos(self, pos):\n",
    "        return (pos + self.offset) * (1 if self.is_direct() else -1)\n",
    "\n",
    "    # Speed\n",
    "    @property\n",
    "    def moving_speed(self):\n",
    "        \"\"\"Get the maximum speed (in degree per second) of the motor.\"\"\"\n",
    "        return self._motor.target_rot_speed\n",
    "\n",
    "    @moving_speed.setter\n",
    "    def moving_speed(self, value):\n",
    "        self._motor.target_rot_speed = value\n",
    "\n",
    "    # Compliancy\n",
    "    @property\n",
    "    def compliant(self):\n",
    "        \"\"\"Check whether or not the motor is compliant.\"\"\"\n",
    "        return self._motor.compliant\n",
    "\n",
    "    @compliant.setter\n",
    "    def compliant(self, value):\n",
    "        self._motor.compliant = value\n",
    "\n",
    "    @property\n",
    "    def torque_limit(self):\n",
    "        \"\"\"Check the maximum torque allowed (in %) of the motor.\"\"\"\n",
    "        return self._motor.power_ratio_limit\n",
    "\n",
    "    @torque_limit.setter\n",
    "    def torque_limit(self, value):\n",
    "        self._motor.power_ratio_limit = value\n",
    "\n",
    "    # Temperature\n",
    "    @property\n",
    "    def temperature(self):\n",
    "        \"\"\"Check the current motor temp. (in °C).\"\"\"\n",
    "        return self._motor.temperature\n",
    "\n",
    "    def goto(self,\n",
    "             goal_position, duration,\n",
    "             starting_point='present_position',\n",
    "             wait=False, interpolation_mode='linear'):\n",
    "        \"\"\"Set trajectory goal for the motor.\n",
    "        Args:\n",
    "            goal_position (float): target position (in degrees)\n",
    "            duration (float): duration of the movement (in seconds)\n",
    "            starting_point (str): register used to determine the starting point (eg. 'goal_position' can also be used in some specific case)\n",
    "            wait (bool): whether or not to wait for the end of the motion\n",
    "            interpolation_mode (str): interpolation technique used for computing the trajectory ('linear', 'minjerk')\n",
    "        Returns:\n",
    "            reachy.trajectory.TrajectoryPlayer: trajectory player that can be used to monitor the trajectory, stop it, etc\n",
    "        \"\"\"\n",
    "        if interpolation_mode not in interpolation_modes.keys():\n",
    "            available = tuple(interpolation_modes.keys())\n",
    "            raise ValueError(f'interpolation_mode should be one of {available}')\n",
    "\n",
    "        traj_player = interpolation_modes[interpolation_mode](getattr(self, starting_point), goal_position, duration)\n",
    "        traj_player.start(self)\n",
    "\n",
    "        if wait:\n",
    "            traj_player.wait()\n",
    "\n",
    "        return traj_player\n",
    "\n",
    "    def use_static_error_fix(self, activate):\n",
    "        \"\"\"Trigger the static error fix.\n",
    "        Args:\n",
    "            activate (bool): whether to activate/deactivate the static error issue fix\n",
    "        If activated, the static error fix will check the reach position a fixed delay after the send of a new goal position.\n",
    "        The static error may result in the motor's load increasing, and yet not managing to move.\n",
    "        To prevent this behavior we automatically adjust the target goal position to reduce this error.\n",
    "        \"\"\"\n",
    "        self._use_static_fix = activate\n",
    "\n",
    "    # Patch dynamixel controller issue when the motor forces\n",
    "    # while not managing to reach the goal position\n",
    "    def _schedule_static_error_fix(self, delay):\n",
    "        if self._timer is not None:\n",
    "            self._timer.cancel()\n",
    "        self._timer = Timer(delay, self._fix_static_error)\n",
    "        self._timer.start()\n",
    "\n",
    "    def _fix_static_error(self, threshold=2):\n",
    "        error = (self.present_position - self.goal_position)\n",
    "\n",
    "        if abs(error) > threshold:\n",
    "            pos = self.goal_position + error / 2\n",
    "            logger.info('Fix static error controller', extra={\n",
    "                'goal_position': self.goal_position,\n",
    "                'present_position': self.present_position,\n",
    "                'fixed_goal_position': pos,\n",
    "            })\n",
    "\n",
    "            self._motor.target_rot_position = self._to_motor_pos(pos)\n",
    "            self._timer = None"
   ]
  },
  {
   "cell_type": "markdown",
   "metadata": {},
   "source": [
    "I needed to modify find_dxl() and attach_dxl_motors() get the correct Luos gate name."
   ]
  },
  {
   "cell_type": "code",
   "execution_count": 4,
   "metadata": {},
   "outputs": [],
   "source": [
    "def find_dxl(io, part_name, dxl_name, dxl_config):\n",
    "    \"\"\"Get a specific dynamixel motor from the IO.\n",
    "    Only goal position is used atm.\n",
    "    \"\"\"\n",
    "    pos = dxl_config['offset'] * (-1 if dxl_config['orientation'] == 'indirect' else 1)\n",
    "    m = WsMotor(name=f'{part_name}.{dxl_name}', initial_position=pos)\n",
    "    \n",
    "    io.motors.append(m)\n",
    "    io.ws.motors[m.name] = m\n",
    "    return m"
   ]
  },
  {
   "cell_type": "code",
   "execution_count": 5,
   "metadata": {},
   "outputs": [],
   "source": [
    "def attach_dxl_motors(io, part_name, dxl_motors):\n",
    "    \"\"\"Attach given dynamixel motors to a part.\n",
    "    Args:\n",
    "        dxl_motors (dict): motors config, the config must at least include an id for each motor (see attach_kinematic_chain for extra parameters)\n",
    "    \"\"\"\n",
    "    motors_dict = {}\n",
    "    \n",
    "    \n",
    "    \n",
    "    class Root(object):\n",
    "        def __init__(self, name):\n",
    "            self.name = name\n",
    "            \n",
    "    root = Root(part_name)\n",
    "    \n",
    "    for motor_name, config in dxl_motors.items():\n",
    "        dxl = find_dxl(io, part_name, motor_name, config)\n",
    "        m = DynamixelMotor(root, motor_name, dxl, config)\n",
    "        motors_dict[motor_name] = m\n",
    "\n",
    "    return motors_dict"
   ]
  },
  {
   "cell_type": "markdown",
   "metadata": {},
   "source": [
    "# Define WebSocket components"
   ]
  },
  {
   "cell_type": "markdown",
   "metadata": {},
   "source": [
    "These are just supporting classes for WebSocket IO. Luos has similar IO classes which share the same interface. https://github.com/CircuitLaunch/reachy/blob/master/software/reachy/io/luos.py\n",
    "You should be able to replace the WebSocket IO classes with the Luos ones with few modifications."
   ]
  },
  {
   "cell_type": "code",
   "execution_count": 6,
   "metadata": {},
   "outputs": [],
   "source": [
    "from threading import Thread, Event\n",
    "import asyncio\n",
    "import websockets\n",
    "import json"
   ]
  },
  {
   "cell_type": "code",
   "execution_count": 7,
   "metadata": {},
   "outputs": [],
   "source": [
    "class WsServer(object):\n",
    "    \"\"\"WebSocket server, sync value from the modules with their equivalent from the client.\"\"\"\n",
    "\n",
    "    def __init__(self, host='0.0.0.0', port=6171):\n",
    "        \"\"\"Prepare the ws server.\"\"\"\n",
    "        self.host, self.port = host, port\n",
    "        self.running = Event()\n",
    "\n",
    "        self.parts = []\n",
    "        self.motors = {}\n",
    "\n",
    "    async def sync(self, websocket, path):\n",
    "        \"\"\"Sync loop that exchange modules state with the client.\"\"\"\n",
    "        self.running.set()\n",
    "\n",
    "        while self.running.is_set():\n",
    "            if not websocket.open:\n",
    "                break\n",
    "\n",
    "            msg = json.dumps({\n",
    "                'motors': [\n",
    "                    {'name': m.name, 'goal_position': m.target_rot_position}\n",
    "                    for m in sum([p.motors for p in self.parts], [])\n",
    "                ],\n",
    "                'disks': [\n",
    "                    {'name': m.name, 'goal_position': m.target_rot_position}\n",
    "                    for m in sum([p.disks for p in self.parts], [])\n",
    "                ],\n",
    "            })\n",
    "            await websocket.send(msg.encode('UTF-8'))\n",
    "\n",
    "            resp = await websocket.recv()\n",
    "            state = json.loads(resp)\n",
    "\n",
    "            if hasattr(self, 'cam'):\n",
    "                eye = f'{self.cam.active_side}_eye'\n",
    "                if eye in state:\n",
    "                    jpeg_data = b64decode(state[eye])\n",
    "                    self.cam.frame = np.array(Image.open(BytesIO(jpeg_data)))\n",
    "\n",
    "            for m in state['motors']:\n",
    "                if m['name'] in self.motors:\n",
    "                    self.motors[m['name']].rot_position = m['present_position']\n",
    "\n",
    "            if hasattr(self, 'left_force_sensor') and 'left_force_sensor' in state:\n",
    "                self.left_force_sensor.load = state['left_force_sensor']\n",
    "            if hasattr(self, 'right_force_sensor') and 'right_force_sensor' in state:\n",
    "                self.right_force_sensor.load = state['right_force_sensor']\n",
    "\n",
    "    def close(self):\n",
    "        \"\"\"Stop the sync loop.\"\"\"\n",
    "        self.running.clear()\n",
    "        self.t.join()\n",
    "\n",
    "    def register(self, io):\n",
    "        \"\"\"Register a new io (and its module) to be synced.\"\"\"\n",
    "        self.parts.append(io)\n",
    "\n",
    "    def run_forever(self):\n",
    "        \"\"\"Run the sync loop forever.\"\"\"\n",
    "        loop = asyncio.new_event_loop()\n",
    "        asyncio.set_event_loop(loop)\n",
    "\n",
    "        serve = websockets.serve(self.sync, self.host, self.port)\n",
    "\n",
    "        loop.run_until_complete(serve)\n",
    "        loop.run_forever()\n",
    "\n",
    "    def run_in_background(self):\n",
    "        \"\"\"Run the sync loop forever in background.\"\"\"\n",
    "        self.t = Thread(target=self.run_forever)\n",
    "        self.t.daemon = True\n",
    "        self.t.start()"
   ]
  },
  {
   "cell_type": "markdown",
   "metadata": {},
   "source": [
    "WsServer.sync() syncs the state back and forth between the internal state (in Python) and Luos. The \"while self.running.is_set():\" loop first converts the internal state to json then does:\n",
    "```\n",
    "await websocket.send(msg.encode('UTF-8'))\n",
    "```\n",
    "to send it to Luos. It waits for a response from Luos with:\n",
    "```\n",
    "resp = await websocket.recv()\n",
    "```\n",
    "The resp is the current state of Luos. Luos' state gets updated into the internal state."
   ]
  },
  {
   "cell_type": "code",
   "execution_count": 8,
   "metadata": {},
   "outputs": [],
   "source": [
    "class WsFakeOrbitaDisk(object):\n",
    "    \"\"\"Orbital disk placeholder.\"\"\"\n",
    "\n",
    "    def __init__(self, name, initial_position):\n",
    "        \"\"\"Create fake Orbita disk.\"\"\"\n",
    "        self.name = name\n",
    "        self.compliant = False\n",
    "        self._target_rot_position = initial_position\n",
    "\n",
    "    def __repr__(self) -> str:\n",
    "        \"\"\"Public Orbita disk string representation.\"\"\"\n",
    "        return f'<Orbita \"{self.name}\" pos=\"{self.rot_position}>'\n",
    "\n",
    "    def setup(self):\n",
    "        \"\"\"Initialize the disk.\"\"\"\n",
    "        pass\n",
    "\n",
    "    @property\n",
    "    def rot_position(self):\n",
    "        \"\"\"Get the current disk angle position (in deg.).\"\"\"\n",
    "        return self.target_rot_position\n",
    "\n",
    "    @property\n",
    "    def temperature(self):\n",
    "        \"\"\"Get the current temperature in C.\"\"\"\n",
    "        return 37.2\n",
    "\n",
    "    @property\n",
    "    def target_rot_position(self):\n",
    "        \"\"\"Get the current target angle position (in deg.).\"\"\"\n",
    "        return self._target_rot_position\n",
    "\n",
    "    @target_rot_position.setter\n",
    "    def target_rot_position(self, new_pos):\n",
    "        \"\"\"Set a new target angle position (in deg.).\"\"\"\n",
    "        self._target_rot_position = new_pos"
   ]
  },
  {
   "cell_type": "code",
   "execution_count": 9,
   "metadata": {},
   "outputs": [],
   "source": [
    "class WsMotor(object):\n",
    "    \"\"\"Motor Placeholder.\n",
    "    Only the goal position (ie. target_rot_position) is currently used.\n",
    "    \"\"\"\n",
    "\n",
    "    def __init__(self, name, initial_position):\n",
    "        \"\"\"Init the fake motor.\"\"\"\n",
    "        self.name = name\n",
    "\n",
    "        self.compliant = False\n",
    "        self.target_rot_position = initial_position\n",
    "        self.rot_position = initial_position\n",
    "        self.temperature = 20"
   ]
  },
  {
   "cell_type": "code",
   "execution_count": 10,
   "metadata": {},
   "outputs": [],
   "source": [
    "class FakeFan(object):\n",
    "    \"\"\"Fake fan module for API consistensy.\"\"\"\n",
    "\n",
    "    def on(self):\n",
    "        \"\"\"Do nothing.\"\"\"\n",
    "        pass\n",
    "\n",
    "    def off(self):\n",
    "        \"\"\"Do nothing.\"\"\"\n",
    "        pass"
   ]
  },
  {
   "cell_type": "code",
   "execution_count": 11,
   "metadata": {},
   "outputs": [],
   "source": [
    "class WsIO(object):\n",
    "    \"\"\"WebSocket IO implementation.\"\"\"\n",
    "\n",
    "    ws = None\n",
    "\n",
    "    def __init__(self, part_name):\n",
    "        \"\"\"Init an io attached to the given part.\"\"\"\n",
    "        self.part_name = part_name\n",
    "        self.motors = []\n",
    "        self.disks = []\n",
    "\n",
    "    @classmethod\n",
    "    def shared_server(cls, part_name):\n",
    "        \"\"\"Create a new io with its ws server.\"\"\"\n",
    "        io = cls(part_name)\n",
    "\n",
    "        if cls.ws is None:\n",
    "            cls.ws = WsServer()\n",
    "            cls.ws.run_in_background()\n",
    "        cls.ws.register(io)\n",
    "\n",
    "        return io\n",
    "\n",
    "    def find_module(self, module_name):\n",
    "        \"\"\"Get a specific module from the IO.\n",
    "        For the moment no module are really implemented. Only placeholders for code compatibility are provided.\n",
    "        \"\"\"\n",
    "        if module_name == 'force_gripper':\n",
    "            force_sensor = WsFakeForceSensor()\n",
    "\n",
    "            if self.part_name == 'left_arm.hand':\n",
    "                self.ws.left_force_sensor = force_sensor\n",
    "            elif self.part_name == 'right_arm.hand':\n",
    "                self.ws.right_force_sensor = force_sensor\n",
    "\n",
    "            return force_sensor\n",
    "\n",
    "        raise NotImplementedError\n",
    "\n",
    "    def find_dxl(self, dxl_name, dxl_config):\n",
    "        \"\"\"Get a specific dynamixel motor from the IO.\n",
    "        Only goal position is used atm.\n",
    "        \"\"\"\n",
    "        pos = dxl_config['offset'] * (-1 if dxl_config['orientation'] == 'indirect' else 1)\n",
    "        m = WsMotor(name=f'{self.part_name}.{dxl_name}', initial_position=pos)\n",
    "        self.motors.append(m)\n",
    "        self.ws.motors[m.name] = m\n",
    "        return m\n",
    "\n",
    "    def find_fan(self, fan_name):\n",
    "        \"\"\"Get a specific fan from its name.\"\"\"\n",
    "        return FakeFan()\n",
    "\n",
    "    def find_orbita_disks(self):\n",
    "        \"\"\"Get a specific orbita module from the IO.\n",
    "        Not currently supported.\n",
    "        \"\"\"\n",
    "        bottomOrb = WsFakeOrbitaDisk(name=f'{self.part_name}.disk_bottom', initial_position=-60)\n",
    "        middleOrb = WsFakeOrbitaDisk(name=f'{self.part_name}.disk_middle', initial_position=-60)\n",
    "        topOrb = WsFakeOrbitaDisk(name=f'{self.part_name}.disk_top', initial_position=-60)\n",
    "\n",
    "        disks = [bottomOrb, middleOrb, topOrb]\n",
    "        self.disks += disks\n",
    "\n",
    "        return disks\n",
    "\n",
    "    def find_dual_camera(self, default_camera):\n",
    "        \"\"\"Retrieve a dual camera.\"\"\"\n",
    "        cam = WsDualCamera(default_camera)\n",
    "        self.ws.cam = cam\n",
    "        return cam\n",
    "\n",
    "    def close(self):\n",
    "        \"\"\"Close the WS.\"\"\"\n",
    "        self.ws.close()"
   ]
  },
  {
   "cell_type": "code",
   "execution_count": 12,
   "metadata": {},
   "outputs": [],
   "source": [
    "class WsDualCamera(object):\n",
    "    \"\"\"Remote Camera.\"\"\"\n",
    "\n",
    "    def __init__(self, default_camera):\n",
    "        \"\"\"Set remote camera up.\"\"\"\n",
    "        self.set_active(default_camera)\n",
    "        self.frame = np.zeros((300, 480, 3), dtype=np.uint8)\n",
    "\n",
    "    @property\n",
    "    def active_side(self):\n",
    "        \"\"\"Get the active camera side.\"\"\"\n",
    "        return self._camera_side\n",
    "\n",
    "    def set_active(self, camera_side):\n",
    "        \"\"\"Set one of the camera active (left or right).\"\"\"\n",
    "        self._camera_side = camera_side\n",
    "\n",
    "    def read(self):\n",
    "        \"\"\"Get latest received frame.\"\"\"\n",
    "        return True, self.frame\n",
    "\n",
    "    def close(self):\n",
    "        \"\"\"Close the camera.\"\"\"\n",
    "        pass"
   ]
  },
  {
   "cell_type": "markdown",
   "metadata": {},
   "source": [
    "# Initialize WebSocket connection"
   ]
  },
  {
   "cell_type": "code",
   "execution_count": 13,
   "metadata": {},
   "outputs": [],
   "source": [
    "io = WsIO.shared_server('head')"
   ]
  },
  {
   "cell_type": "markdown",
   "metadata": {},
   "source": [
    "*Connect Reachy simulator now* \n",
    "http://playground.pollen-robotics.com/#quickstart"
   ]
  },
  {
   "cell_type": "markdown",
   "metadata": {},
   "source": [
    "The only change that you should need to make for Luos is something like this:\n",
    "```\n",
    "gate_name = self.name.split('.')[0]\n",
    "gate_name = f'r_{gate_name}'\n",
    "self.io = luos.SharedLuosIO.with_gate(gate_name, io)\n",
    "```\n",
    "\n",
    "This is similar to what's in ReachyPart.__init__(). https://github.com/CircuitLaunch/reachy/blob/master/software/reachy/parts/part.py\n",
    "\n",
    "Communication to PyLuos has been abstracted out here:\n",
    "https://github.com/CircuitLaunch/reachy/blob/master/software/reachy/io/luos.py"
   ]
  },
  {
   "cell_type": "markdown",
   "metadata": {},
   "source": [
    "# Orbita"
   ]
  },
  {
   "cell_type": "markdown",
   "metadata": {},
   "source": [
    "## Set up the disks for the orbita"
   ]
  },
  {
   "cell_type": "markdown",
   "metadata": {},
   "source": [
    "hardware_zero has the initial settings for the orbita motors. "
   ]
  },
  {
   "cell_type": "code",
   "execution_count": 14,
   "metadata": {},
   "outputs": [],
   "source": [
    "hardware_zero = np.load('/opt/anaconda/envs/reachy-docker/lib/python3.6/site-packages/reachy/orbita_head_hardware_zero.npy')"
   ]
  },
  {
   "cell_type": "markdown",
   "metadata": {},
   "source": [
    "Find the motors."
   ]
  },
  {
   "cell_type": "code",
   "execution_count": 15,
   "metadata": {},
   "outputs": [],
   "source": [
    "disks_motor = io.find_orbita_disks()\n",
    "disk_bottom, disk_middle, disk_top = disks_motor"
   ]
  },
  {
   "cell_type": "markdown",
   "metadata": {},
   "source": [
    "Turn off compliant otherwise your motor might not move."
   ]
  },
  {
   "cell_type": "code",
   "execution_count": 16,
   "metadata": {},
   "outputs": [],
   "source": [
    "for d in disks_motor:\n",
    "    d.compliant = False"
   ]
  },
  {
   "cell_type": "code",
   "execution_count": 17,
   "metadata": {},
   "outputs": [],
   "source": [
    "def setup_orbita_disks(disks, hardware_zero):\n",
    "    \"\"\"Configure each of the three disks.\n",
    "    .. note:: automatically called at instantiation.\n",
    "    \"\"\"\n",
    "    for disk in disks:\n",
    "        disk.setup()\n",
    "\n",
    "    def _find_zero(disk, z):\n",
    "        A = 360 / (52 / 24)\n",
    "        p = disk.rot_position\n",
    "\n",
    "        zeros = [z, -(A - z), A + z]\n",
    "        distances = [abs(p - z) for z in zeros]\n",
    "        best = np.argmin(distances)\n",
    "\n",
    "        return zeros[best]\n",
    "\n",
    "    time.sleep(0.25)\n",
    "\n",
    "    for d, z in zip(disks, hardware_zero):\n",
    "        d.offset = _find_zero(d, z) + 60"
   ]
  },
  {
   "cell_type": "markdown",
   "metadata": {},
   "source": [
    "Set up the Orbita disks with the initial hardware_zero settings."
   ]
  },
  {
   "cell_type": "code",
   "execution_count": 18,
   "metadata": {},
   "outputs": [],
   "source": [
    "setup_orbita_disks(disks_motor, hardware_zero)"
   ]
  },
  {
   "cell_type": "markdown",
   "metadata": {},
   "source": [
    "## Move the motors"
   ]
  },
  {
   "cell_type": "markdown",
   "metadata": {},
   "source": [
    "Set orbita disk positions in degrees (-180 to 180)"
   ]
  },
  {
   "cell_type": "code",
   "execution_count": 19,
   "metadata": {},
   "outputs": [],
   "source": [
    "disk_bottom.target_rot_position = -180\n",
    "disk_middle.target_rot_position = -180\n",
    "disk_top.target_rot_position = -180"
   ]
  },
  {
   "cell_type": "code",
   "execution_count": 20,
   "metadata": {},
   "outputs": [],
   "source": [
    "disk_bottom.target_rot_position = 180\n",
    "disk_middle.target_rot_position = 180\n",
    "disk_top.target_rot_position = 180"
   ]
  },
  {
   "cell_type": "markdown",
   "metadata": {},
   "source": [
    "# Head"
   ]
  },
  {
   "cell_type": "markdown",
   "metadata": {},
   "source": [
    "Config settings for the antennas. Note that the angle limits are from -150 to 150."
   ]
  },
  {
   "cell_type": "code",
   "execution_count": 21,
   "metadata": {},
   "outputs": [],
   "source": [
    "head_dxl_motors = OrderedDict([\n",
    "        ('left_antenna', {\n",
    "            'id': 30, 'offset': 0.0, 'orientation': 'direct',\n",
    "            'angle-limits': [-150, 150],\n",
    "        }),\n",
    "        ('right_antenna', {\n",
    "            'id': 31, 'offset': 0.0, 'orientation': 'direct',\n",
    "            'angle-limits': [-150, 150],\n",
    "        }),\n",
    "    ])"
   ]
  },
  {
   "cell_type": "markdown",
   "metadata": {},
   "source": [
    "Init the antennas with the config settings."
   ]
  },
  {
   "cell_type": "code",
   "execution_count": 22,
   "metadata": {},
   "outputs": [],
   "source": [
    "antennas = attach_dxl_motors(io, \"head\", head_dxl_motors)"
   ]
  },
  {
   "cell_type": "markdown",
   "metadata": {},
   "source": [
    "Turn off compliant otherwise your motor might not move."
   ]
  },
  {
   "cell_type": "code",
   "execution_count": 23,
   "metadata": {},
   "outputs": [
    {
     "ename": "NameError",
     "evalue": "name 'arm_motors' is not defined",
     "output_type": "error",
     "traceback": [
      "\u001b[0;31m\u001b[0m",
      "\u001b[0;31mNameError\u001b[0mTraceback (most recent call last)",
      "\u001b[0;32m<ipython-input-23-70bbe62306c5>\u001b[0m in \u001b[0;36m<module>\u001b[0;34m\u001b[0m\n\u001b[0;32m----> 1\u001b[0;31m \u001b[0;32mfor\u001b[0m \u001b[0mm\u001b[0m \u001b[0;32min\u001b[0m \u001b[0marm_motors\u001b[0m\u001b[0;34m:\u001b[0m\u001b[0;34m\u001b[0m\u001b[0;34m\u001b[0m\u001b[0m\n\u001b[0m\u001b[1;32m      2\u001b[0m     \u001b[0marm_motors\u001b[0m\u001b[0;34m[\u001b[0m\u001b[0mm\u001b[0m\u001b[0;34m]\u001b[0m\u001b[0;34m.\u001b[0m\u001b[0mcompliant\u001b[0m \u001b[0;34m=\u001b[0m \u001b[0;32mFalse\u001b[0m\u001b[0;34m\u001b[0m\u001b[0;34m\u001b[0m\u001b[0m\n",
      "\u001b[0;31mNameError\u001b[0m: name 'arm_motors' is not defined"
     ]
    }
   ],
   "source": [
    "for m in arm_motors:\n",
    "    arm_motors[m].compliant = False"
   ]
  },
  {
   "cell_type": "markdown",
   "metadata": {},
   "source": [
    "## Move the antennas"
   ]
  },
  {
   "cell_type": "markdown",
   "metadata": {},
   "source": [
    "The antennas uses degree values for goal_position."
   ]
  },
  {
   "cell_type": "code",
   "execution_count": 24,
   "metadata": {},
   "outputs": [],
   "source": [
    "antennas['left_antenna'].goal_position = 150"
   ]
  },
  {
   "cell_type": "code",
   "execution_count": 25,
   "metadata": {},
   "outputs": [],
   "source": [
    "antennas['left_antenna'].goal_position = 0"
   ]
  },
  {
   "cell_type": "code",
   "execution_count": 26,
   "metadata": {},
   "outputs": [],
   "source": [
    "antennas['left_antenna'].goal_position = -150"
   ]
  },
  {
   "cell_type": "code",
   "execution_count": 27,
   "metadata": {},
   "outputs": [],
   "source": [
    "antennas['right_antenna'].goal_position = 150"
   ]
  },
  {
   "cell_type": "code",
   "execution_count": 28,
   "metadata": {},
   "outputs": [],
   "source": [
    "antennas['right_antenna'].goal_position = 0"
   ]
  },
  {
   "cell_type": "code",
   "execution_count": 29,
   "metadata": {},
   "outputs": [],
   "source": [
    "antennas['right_antenna'].goal_position = -150"
   ]
  },
  {
   "cell_type": "markdown",
   "metadata": {},
   "source": [
    "# Right Arm"
   ]
  },
  {
   "cell_type": "code",
   "execution_count": 30,
   "metadata": {},
   "outputs": [],
   "source": [
    "right_arm_dxl_motors = OrderedDict([\n",
    "        ('shoulder_pitch', {\n",
    "            'id': 10, 'offset': 90.0, 'orientation': 'indirect',\n",
    "            'angle-limits': [-180, 60],\n",
    "            'link-translation': [0, -0.19, 0], 'link-rotation': [0, 1, 0],\n",
    "        }),\n",
    "        ('shoulder_roll', {\n",
    "            'id': 11, 'offset': 90.0, 'orientation': 'indirect',\n",
    "            'angle-limits': [-100, 90],\n",
    "            'link-translation': [0, 0, 0], 'link-rotation': [1, 0, 0],\n",
    "        }),\n",
    "        ('arm_yaw', {\n",
    "            'id': 12, 'offset': 0.0, 'orientation': 'indirect',\n",
    "            'angle-limits': [-90, 90],\n",
    "            'link-translation': [0, 0, 0], 'link-rotation': [0, 0, 1],\n",
    "        }),\n",
    "        ('elbow_pitch', {\n",
    "            'id': 13, 'offset': 0.0, 'orientation': 'indirect',\n",
    "            'angle-limits': [0, 125],\n",
    "            'link-translation': [0, 0, -0.28], 'link-rotation': [0, 1, 0],\n",
    "        }),\n",
    "    ])"
   ]
  },
  {
   "cell_type": "markdown",
   "metadata": {},
   "source": [
    "Init the arm motors."
   ]
  },
  {
   "cell_type": "code",
   "execution_count": 31,
   "metadata": {},
   "outputs": [],
   "source": [
    "arm_motors = attach_dxl_motors(io, \"right_arm\", right_arm_dxl_motors)"
   ]
  },
  {
   "cell_type": "markdown",
   "metadata": {},
   "source": [
    "Turn off compliant otherwise your motor might not move."
   ]
  },
  {
   "cell_type": "code",
   "execution_count": 32,
   "metadata": {},
   "outputs": [],
   "source": [
    "for m in arm_motors:\n",
    "    arm_motors[m].compliant = False"
   ]
  },
  {
   "cell_type": "markdown",
   "metadata": {},
   "source": [
    "## Move the Arm"
   ]
  },
  {
   "cell_type": "code",
   "execution_count": 107,
   "metadata": {},
   "outputs": [],
   "source": [
    "arm_motors['elbow_pitch'].goal_position = -0.0"
   ]
  },
  {
   "cell_type": "code",
   "execution_count": 108,
   "metadata": {},
   "outputs": [],
   "source": [
    "arm_motors['elbow_pitch'].goal_position = -1.0"
   ]
  },
  {
   "cell_type": "code",
   "execution_count": 109,
   "metadata": {},
   "outputs": [],
   "source": [
    "arm_motors['elbow_pitch'].goal_position = -2.0"
   ]
  },
  {
   "cell_type": "code",
   "execution_count": 110,
   "metadata": {},
   "outputs": [],
   "source": [
    "arm_motors['elbow_pitch'].goal_position = -4.0"
   ]
  },
  {
   "cell_type": "code",
   "execution_count": 111,
   "metadata": {},
   "outputs": [],
   "source": [
    "arm_motors['elbow_pitch'].goal_position = -8.0"
   ]
  },
  {
   "cell_type": "code",
   "execution_count": 112,
   "metadata": {},
   "outputs": [],
   "source": [
    "arm_motors['elbow_pitch'].goal_position = -16.0"
   ]
  },
  {
   "cell_type": "code",
   "execution_count": 113,
   "metadata": {},
   "outputs": [],
   "source": [
    "arm_motors['elbow_pitch'].goal_position = -32.0"
   ]
  },
  {
   "cell_type": "code",
   "execution_count": 114,
   "metadata": {},
   "outputs": [],
   "source": [
    "arm_motors['elbow_pitch'].goal_position = -64.0"
   ]
  },
  {
   "cell_type": "code",
   "execution_count": 115,
   "metadata": {},
   "outputs": [],
   "source": [
    "arm_motors['elbow_pitch'].goal_position = -32.0"
   ]
  },
  {
   "cell_type": "code",
   "execution_count": 116,
   "metadata": {},
   "outputs": [],
   "source": [
    "arm_motors['elbow_pitch'].goal_position = -16.0"
   ]
  },
  {
   "cell_type": "code",
   "execution_count": 117,
   "metadata": {},
   "outputs": [],
   "source": [
    "arm_motors['elbow_pitch'].goal_position = -8.0"
   ]
  },
  {
   "cell_type": "code",
   "execution_count": 118,
   "metadata": {},
   "outputs": [],
   "source": [
    "arm_motors['elbow_pitch'].goal_position = -4.0"
   ]
  },
  {
   "cell_type": "code",
   "execution_count": 119,
   "metadata": {},
   "outputs": [],
   "source": [
    "arm_motors['elbow_pitch'].goal_position = -2.0"
   ]
  },
  {
   "cell_type": "code",
   "execution_count": 120,
   "metadata": {},
   "outputs": [],
   "source": [
    "arm_motors['elbow_pitch'].goal_position = -1.0"
   ]
  },
  {
   "cell_type": "code",
   "execution_count": 121,
   "metadata": {},
   "outputs": [],
   "source": [
    "arm_motors['elbow_pitch'].goal_position = 0.0"
   ]
  },
  {
   "cell_type": "code",
   "execution_count": null,
   "metadata": {},
   "outputs": [],
   "source": []
  },
  {
   "cell_type": "code",
   "execution_count": null,
   "metadata": {},
   "outputs": [],
   "source": []
  },
  {
   "cell_type": "code",
   "execution_count": null,
   "metadata": {},
   "outputs": [],
   "source": []
  },
  {
   "cell_type": "code",
   "execution_count": null,
   "metadata": {},
   "outputs": [],
   "source": []
  },
  {
   "cell_type": "code",
   "execution_count": null,
   "metadata": {},
   "outputs": [],
   "source": []
  },
  {
   "cell_type": "code",
   "execution_count": null,
   "metadata": {},
   "outputs": [],
   "source": []
  },
  {
   "cell_type": "code",
   "execution_count": null,
   "metadata": {},
   "outputs": [],
   "source": []
  },
  {
   "cell_type": "code",
   "execution_count": null,
   "metadata": {},
   "outputs": [],
   "source": []
  },
  {
   "cell_type": "code",
   "execution_count": null,
   "metadata": {},
   "outputs": [],
   "source": []
  }
 ],
 "metadata": {
  "kernelspec": {
   "display_name": "Python 3",
   "language": "python",
   "name": "python3"
  },
  "language_info": {
   "codemirror_mode": {
    "name": "ipython",
    "version": 3
   },
   "file_extension": ".py",
   "mimetype": "text/x-python",
   "name": "python",
   "nbconvert_exporter": "python",
   "pygments_lexer": "ipython3",
   "version": "3.7.3"
  }
 },
 "nbformat": 4,
 "nbformat_minor": 4
}
