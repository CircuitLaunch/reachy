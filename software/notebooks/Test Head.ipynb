{
 "cells": [
  {
   "cell_type": "markdown",
   "metadata": {},
   "source": [
    "# Testing the Head"
   ]
  },
  {
   "cell_type": "markdown",
   "metadata": {},
   "source": [
    "**Warning:** Before running this notebook, first make sure you understand the command you run and make sure that the robot can freely move."
   ]
  },
  {
   "cell_type": "markdown",
   "metadata": {},
   "source": [
    "**Note:** Also stop all other running Python script or notebook connected to the robot as only one connection can run at the same time."
   ]
  },
  {
   "cell_type": "code",
   "execution_count": 1,
   "metadata": {},
   "outputs": [],
   "source": [
    "%matplotlib notebook\n",
    "\n",
    "import time\n",
    "import cv2 as cv\n",
    "import numpy as np\n",
    "\n",
    "from matplotlib import pyplot as plt"
   ]
  },
  {
   "cell_type": "code",
   "execution_count": 8,
   "metadata": {},
   "outputs": [],
   "source": [
    "from collections import OrderedDict\n",
    "from reachy import parts\n",
    "\n",
    "def patch_head_config(head_cls):\n",
    "    # if it's 'armv7l', assume that it's the raspberry pi 4 on reachy\n",
    "    head_cls.dxl_motors = OrderedDict([\n",
    "        ('left_antenna', {\n",
    "            'id': 30, 'offset': 26.0, 'orientation': 'direct',\n",
    "            'angle-limits': [-150, 150],\n",
    "        }),\n",
    "        ('right_antenna', {\n",
    "            'id': 31, 'offset': 90.0, 'orientation': 'direct',\n",
    "            'angle-limits': [-150, 150],\n",
    "        }),\n",
    "    ])\n",
    "    \n",
    "    return head_cls\n",
    "\n",
    "def patch_head(head_cls):\n",
    "    def __init__(self, io, default_camera='right'):\n",
    "        \"\"\"Create new Head part.\"\"\"\n",
    "        parts.part.ReachyPart.__init__(self, name='head', io=io)\n",
    "\n",
    "        #self.neck = self.create_orbita_actuator('neck', Head.orbita_config)\n",
    "        self.attach_dxl_motors(parts.Head.dxl_motors)\n",
    "        #self.camera = self.io.find_dual_camera(default_camera)\n",
    "\n",
    "    head_cls.__init__ = __init__\n",
    "\n",
    "    return head_cls"
   ]
  },
  {
   "cell_type": "markdown",
   "metadata": {},
   "source": [
    "## Connect to the head"
   ]
  },
  {
   "cell_type": "code",
   "execution_count": 9,
   "metadata": {},
   "outputs": [],
   "source": [
    "from reachy import Reachy, parts"
   ]
  },
  {
   "cell_type": "code",
   "execution_count": 10,
   "metadata": {},
   "outputs": [],
   "source": [
    "parts.Head = patch_head_config(parts.Head)"
   ]
  },
  {
   "cell_type": "code",
   "execution_count": 11,
   "metadata": {},
   "outputs": [],
   "source": [
    "parts.Head = patch_head(parts.Head)"
   ]
  },
  {
   "cell_type": "code",
   "execution_count": 15,
   "metadata": {},
   "outputs": [],
   "source": [
    "reachy = Reachy(\n",
    "    head=parts.Head(io='/dev/ttyUSB*')\n",
    "    #head=parts.Head(io='ws'),\n",
    ")"
   ]
  },
  {
   "cell_type": "markdown",
   "metadata": {},
   "source": [
    "You can now connect your robot in Unity."
   ]
  },
  {
   "cell_type": "markdown",
   "metadata": {},
   "source": [
    "## Move the neck"
   ]
  },
  {
   "cell_type": "markdown",
   "metadata": {},
   "source": [
    "Check that all 3 disks are present and ok."
   ]
  },
  {
   "cell_type": "code",
   "execution_count": null,
   "metadata": {},
   "outputs": [],
   "source": [
    "for d in reachy.head.neck.disks:\n",
    "    print(d, d.temperature)"
   ]
  },
  {
   "cell_type": "markdown",
   "metadata": {},
   "source": [
    "Turn compliant/stiff and check that the head is free or fixed."
   ]
  },
  {
   "cell_type": "code",
   "execution_count": null,
   "metadata": {},
   "outputs": [],
   "source": [
    "reachy.head.compliant = True"
   ]
  },
  {
   "cell_type": "code",
   "execution_count": null,
   "metadata": {},
   "outputs": [],
   "source": [
    "reachy.head.compliant = False"
   ]
  },
  {
   "cell_type": "markdown",
   "metadata": {},
   "source": [
    "Go to the base position."
   ]
  },
  {
   "cell_type": "code",
   "execution_count": null,
   "metadata": {},
   "outputs": [],
   "source": [
    "reachy.head.compliant = False\n",
    "reachy.head.look_at(1, 0, 0, duration=1, wait=True)"
   ]
  },
  {
   "cell_type": "markdown",
   "metadata": {},
   "source": [
    "Play some random moves."
   ]
  },
  {
   "cell_type": "code",
   "execution_count": null,
   "metadata": {},
   "outputs": [],
   "source": [
    "x = 0.5\n",
    "y = (2 * np.random.rand() - 1) * 0.25\n",
    "z = (2 * np.random.rand() - 1) * 0.25\n",
    "\n",
    "duration = 1\n",
    "\n",
    "reachy.head.look_at(x, y, z, duration=duration, wait=False)\n",
    "\n",
    "real = []\n",
    "\n",
    "t0 = time.time()\n",
    "while time.time() - t0 < duration:\n",
    "    real.append([d.rot_position for d in reachy.head.neck.disks])\n",
    "    time.sleep(0.01)\n",
    "    \n",
    "plt.figure()\n",
    "plt.plot(real)"
   ]
  },
  {
   "cell_type": "markdown",
   "metadata": {},
   "source": [
    "## Move the antennas"
   ]
  },
  {
   "cell_type": "markdown",
   "metadata": {},
   "source": [
    "Check that we have both antennas."
   ]
  },
  {
   "cell_type": "markdown",
   "metadata": {},
   "source": [
    "Turn them stiff."
   ]
  },
  {
   "cell_type": "code",
   "execution_count": 17,
   "metadata": {},
   "outputs": [],
   "source": [
    "for m in reachy.head.motors:\n",
    "    m.compliant = False"
   ]
  },
  {
   "cell_type": "markdown",
   "metadata": {},
   "source": [
    "Make them go to 0"
   ]
  },
  {
   "cell_type": "code",
   "execution_count": 18,
   "metadata": {},
   "outputs": [],
   "source": [
    "for m in reachy.head.motors:\n",
    "    m.goal_position = 0"
   ]
  },
  {
   "cell_type": "markdown",
   "metadata": {},
   "source": [
    "Make them go to 45"
   ]
  },
  {
   "cell_type": "code",
   "execution_count": 19,
   "metadata": {},
   "outputs": [],
   "source": [
    "for m in reachy.head.motors:\n",
    "    m.goal_position = 45"
   ]
  },
  {
   "cell_type": "markdown",
   "metadata": {},
   "source": [
    "(check that they both moved)"
   ]
  },
  {
   "cell_type": "markdown",
   "metadata": {},
   "source": [
    "Make them go to 0 again"
   ]
  },
  {
   "cell_type": "code",
   "execution_count": 20,
   "metadata": {},
   "outputs": [],
   "source": [
    "for m in reachy.head.motors:\n",
    "    m.goal_position = 0"
   ]
  },
  {
   "cell_type": "markdown",
   "metadata": {},
   "source": [
    "Make them follow a sinus for a few seconds."
   ]
  },
  {
   "cell_type": "code",
   "execution_count": 21,
   "metadata": {},
   "outputs": [],
   "source": [
    "t = np.linspace(0, 10, 1000)\n",
    "pos = 30 * np.sin(2 * np.pi * 0.5 * t)\n",
    "\n",
    "for p in pos:\n",
    "    for m in reachy.head.motors:\n",
    "        m.goal_position = p\n",
    "    time.sleep(0.01)"
   ]
  },
  {
   "cell_type": "markdown",
   "metadata": {},
   "source": [
    "## Access the cameras"
   ]
  },
  {
   "cell_type": "markdown",
   "metadata": {},
   "source": [
    "*Note: the cameras don't seem to be working in the simulator for reachy v1.2.3. - PC*"
   ]
  },
  {
   "cell_type": "markdown",
   "metadata": {},
   "source": [
    "Check the right camera."
   ]
  },
  {
   "cell_type": "code",
   "execution_count": null,
   "metadata": {},
   "outputs": [],
   "source": [
    "success, img = reachy.head.right_camera.read()\n",
    "\n",
    "if success:\n",
    "    plt.figure()\n",
    "    plt.imshow(cv.cvtColor(img, cv.COLOR_BGR2RGB))"
   ]
  },
  {
   "cell_type": "markdown",
   "metadata": {},
   "source": [
    "Check the left camera."
   ]
  },
  {
   "cell_type": "code",
   "execution_count": null,
   "metadata": {},
   "outputs": [],
   "source": [
    "success, img = reachy.head.left_camera.read()\n",
    "\n",
    "if success:\n",
    "    plt.figure()\n",
    "    plt.imshow(cv.cvtColor(img, cv.COLOR_BGR2RGB))"
   ]
  },
  {
   "cell_type": "code",
   "execution_count": null,
   "metadata": {},
   "outputs": [],
   "source": []
  }
 ],
 "metadata": {
  "kernelspec": {
   "display_name": "Python 3",
   "language": "python",
   "name": "python3"
  },
  "language_info": {
   "codemirror_mode": {
    "name": "ipython",
    "version": 3
   },
   "file_extension": ".py",
   "mimetype": "text/x-python",
   "name": "python",
   "nbconvert_exporter": "python",
   "pygments_lexer": "ipython3",
   "version": "3.7.3"
  }
 },
 "nbformat": 4,
 "nbformat_minor": 4
}
